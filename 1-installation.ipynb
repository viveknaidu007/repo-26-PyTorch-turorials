{
 "cells": [
  {
   "cell_type": "code",
   "execution_count": 1,
   "metadata": {},
   "outputs": [
    {
     "name": "stdout",
     "output_type": "stream",
     "text": [
      "Requirement already satisfied: torch in c:\\users\\poppo\\anaconda3\\envs\\mlproj\\lib\\site-packages (2.1.2)\n",
      "Requirement already satisfied: torchvision in c:\\users\\poppo\\anaconda3\\envs\\mlproj\\lib\\site-packages (0.16.2)\n",
      "Collecting torchaudio\n",
      "  Downloading torchaudio-2.2.0-cp38-cp38-win_amd64.whl.metadata (6.4 kB)\n",
      "Requirement already satisfied: filelock in c:\\users\\poppo\\anaconda3\\envs\\mlproj\\lib\\site-packages (from torch) (3.13.1)\n",
      "Requirement already satisfied: typing-extensions in c:\\users\\poppo\\anaconda3\\envs\\mlproj\\lib\\site-packages (from torch) (4.9.0)\n",
      "Requirement already satisfied: sympy in c:\\users\\poppo\\anaconda3\\envs\\mlproj\\lib\\site-packages (from torch) (1.12)\n",
      "Requirement already satisfied: networkx in c:\\users\\poppo\\anaconda3\\envs\\mlproj\\lib\\site-packages (from torch) (3.1)\n",
      "Requirement already satisfied: jinja2 in c:\\users\\poppo\\anaconda3\\envs\\mlproj\\lib\\site-packages (from torch) (3.1.2)\n",
      "Requirement already satisfied: fsspec in c:\\users\\poppo\\anaconda3\\envs\\mlproj\\lib\\site-packages (from torch) (2023.10.0)\n",
      "Requirement already satisfied: numpy in c:\\users\\poppo\\anaconda3\\envs\\mlproj\\lib\\site-packages (from torchvision) (1.23.4)\n",
      "Requirement already satisfied: requests in c:\\users\\poppo\\anaconda3\\envs\\mlproj\\lib\\site-packages (from torchvision) (2.31.0)\n",
      "Requirement already satisfied: pillow!=8.3.*,>=5.3.0 in c:\\users\\poppo\\anaconda3\\envs\\mlproj\\lib\\site-packages (from torchvision) (10.2.0)\n",
      "INFO: pip is looking at multiple versions of torchaudio to determine which version is compatible with other requirements. This could take a while.\n",
      "  Downloading torchaudio-2.1.2-cp38-cp38-win_amd64.whl.metadata (6.4 kB)\n",
      "Requirement already satisfied: MarkupSafe>=2.0 in c:\\users\\poppo\\anaconda3\\envs\\mlproj\\lib\\site-packages (from jinja2->torch) (2.1.3)\n",
      "Requirement already satisfied: charset-normalizer<4,>=2 in c:\\users\\poppo\\anaconda3\\envs\\mlproj\\lib\\site-packages (from requests->torchvision) (3.3.2)\n",
      "Requirement already satisfied: idna<4,>=2.5 in c:\\users\\poppo\\anaconda3\\envs\\mlproj\\lib\\site-packages (from requests->torchvision) (3.6)\n",
      "Requirement already satisfied: urllib3<3,>=1.21.1 in c:\\users\\poppo\\anaconda3\\envs\\mlproj\\lib\\site-packages (from requests->torchvision) (2.1.0)\n",
      "Requirement already satisfied: certifi>=2017.4.17 in c:\\users\\poppo\\anaconda3\\envs\\mlproj\\lib\\site-packages (from requests->torchvision) (2023.11.17)\n",
      "Requirement already satisfied: mpmath>=0.19 in c:\\users\\poppo\\anaconda3\\envs\\mlproj\\lib\\site-packages (from sympy->torch) (1.3.0)\n",
      "Downloading torchaudio-2.1.2-cp38-cp38-win_amd64.whl (2.3 MB)\n",
      "   ---------------------------------------- 0.0/2.3 MB ? eta -:--:--\n",
      "   ---------------------------------------- 0.0/2.3 MB ? eta -:--:--\n",
      "    --------------------------------------- 0.0/2.3 MB 653.6 kB/s eta 0:00:04\n",
      "   -- ------------------------------------- 0.1/2.3 MB 1.2 MB/s eta 0:00:02\n",
      "   ---- ----------------------------------- 0.3/2.3 MB 1.9 MB/s eta 0:00:02\n",
      "   -------- ------------------------------- 0.5/2.3 MB 2.5 MB/s eta 0:00:01\n",
      "   ------------ --------------------------- 0.7/2.3 MB 3.1 MB/s eta 0:00:01\n",
      "   ---------------- ----------------------- 1.0/2.3 MB 3.2 MB/s eta 0:00:01\n",
      "   -------------------- ------------------- 1.2/2.3 MB 3.6 MB/s eta 0:00:01\n",
      "   ------------------------ --------------- 1.4/2.3 MB 3.7 MB/s eta 0:00:01\n",
      "   ---------------------------- ----------- 1.6/2.3 MB 3.9 MB/s eta 0:00:01\n",
      "   -------------------------------- ------- 1.9/2.3 MB 4.0 MB/s eta 0:00:01\n",
      "   ------------------------------------ --- 2.1/2.3 MB 4.0 MB/s eta 0:00:01\n",
      "   ---------------------------------------  2.3/2.3 MB 4.1 MB/s eta 0:00:01\n",
      "   ---------------------------------------- 2.3/2.3 MB 4.0 MB/s eta 0:00:00\n",
      "Installing collected packages: torchaudio\n",
      "Successfully installed torchaudio-2.1.2\n"
     ]
    }
   ],
   "source": [
    "#to install the packages of pytorch follow the belowe command\n",
    "\n",
    "!pip install torch torchvision torchaudio\n"
   ]
  }
 ],
 "metadata": {
  "kernelspec": {
   "display_name": "mlproj",
   "language": "python",
   "name": "python3"
  },
  "language_info": {
   "codemirror_mode": {
    "name": "ipython",
    "version": 3
   },
   "file_extension": ".py",
   "mimetype": "text/x-python",
   "name": "python",
   "nbconvert_exporter": "python",
   "pygments_lexer": "ipython3",
   "version": "3.8.18"
  }
 },
 "nbformat": 4,
 "nbformat_minor": 2
}
